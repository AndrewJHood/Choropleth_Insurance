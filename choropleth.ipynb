{
 "cells": [
  {
   "cell_type": "code",
   "execution_count": 29,
   "metadata": {},
   "outputs": [],
   "source": [
    "import altair as alt\n",
    "import pandas as pd\n",
    "import numpy as np\n",
    "from vega_datasets import data\n",
    "import streamlit as st"
   ]
  },
  {
   "cell_type": "code",
   "execution_count": 30,
   "metadata": {},
   "outputs": [],
   "source": [
    "# Data Sources\n",
    "states = alt.topo_feature(data.us_10m.url, feature='states')\n",
    "source = pd.read_csv('losses2015_transformed-1.csv')\n",
    "amount = source[['State_Code','Amount']]\n",
    "amount = amount.groupby('State_Code').sum()\n",
    "amount['State_Abv']=source['State_Abv'].unique()\n",
    "amount = amount.reset_index(drop=True)\n",
    "amount['id'] = source['State_Code'].unique()\n",
    "\n",
    "losses = source[['Damage_Descp', 'Amount']]"
   ]
  },
  {
   "cell_type": "code",
   "execution_count": 31,
   "metadata": {},
   "outputs": [],
   "source": [
    "#print(amount)"
   ]
  },
  {
   "cell_type": "code",
   "execution_count": 35,
   "metadata": {},
   "outputs": [
    {
     "data": {
      "text/html": [
       "\n",
       "<div id=\"altair-viz-50ad27fffcef42cb85f7f5d5e86fd1a9\"></div>\n",
       "<script type=\"text/javascript\">\n",
       "  (function(spec, embedOpt){\n",
       "    let outputDiv = document.currentScript.previousElementSibling;\n",
       "    if (outputDiv.id !== \"altair-viz-50ad27fffcef42cb85f7f5d5e86fd1a9\") {\n",
       "      outputDiv = document.getElementById(\"altair-viz-50ad27fffcef42cb85f7f5d5e86fd1a9\");\n",
       "    }\n",
       "    const paths = {\n",
       "      \"vega\": \"https://cdn.jsdelivr.net/npm//vega@5?noext\",\n",
       "      \"vega-lib\": \"https://cdn.jsdelivr.net/npm//vega-lib?noext\",\n",
       "      \"vega-lite\": \"https://cdn.jsdelivr.net/npm//vega-lite@4.8.1?noext\",\n",
       "      \"vega-embed\": \"https://cdn.jsdelivr.net/npm//vega-embed@6?noext\",\n",
       "    };\n",
       "\n",
       "    function loadScript(lib) {\n",
       "      return new Promise(function(resolve, reject) {\n",
       "        var s = document.createElement('script');\n",
       "        s.src = paths[lib];\n",
       "        s.async = true;\n",
       "        s.onload = () => resolve(paths[lib]);\n",
       "        s.onerror = () => reject(`Error loading script: ${paths[lib]}`);\n",
       "        document.getElementsByTagName(\"head\")[0].appendChild(s);\n",
       "      });\n",
       "    }\n",
       "\n",
       "    function showError(err) {\n",
       "      outputDiv.innerHTML = `<div class=\"error\" style=\"color:red;\">${err}</div>`;\n",
       "      throw err;\n",
       "    }\n",
       "\n",
       "    function displayChart(vegaEmbed) {\n",
       "      vegaEmbed(outputDiv, spec, embedOpt)\n",
       "        .catch(err => showError(`Javascript Error: ${err.message}<br>This usually means there's a typo in your chart specification. See the javascript console for the full traceback.`));\n",
       "    }\n",
       "\n",
       "    if(typeof define === \"function\" && define.amd) {\n",
       "      requirejs.config({paths});\n",
       "      require([\"vega-embed\"], displayChart, err => showError(`Error loading script: ${err.message}`));\n",
       "    } else if (typeof vegaEmbed === \"function\") {\n",
       "      displayChart(vegaEmbed);\n",
       "    } else {\n",
       "      loadScript(\"vega\")\n",
       "        .then(() => loadScript(\"vega-lite\"))\n",
       "        .then(() => loadScript(\"vega-embed\"))\n",
       "        .catch(showError)\n",
       "        .then(() => displayChart(vegaEmbed));\n",
       "    }\n",
       "  })({\"config\": {\"view\": {\"continuousWidth\": 400, \"continuousHeight\": 300}}, \"data\": {\"url\": \"https://cdn.jsdelivr.net/npm/vega-datasets@v1.29.0/data/us-10m.json\", \"format\": {\"feature\": \"states\", \"type\": \"topojson\"}}, \"mark\": {\"type\": \"geoshape\", \"stroke\": \"white\"}, \"encoding\": {\"color\": {\"type\": \"quantitative\", \"field\": \"Amount\"}}, \"height\": 400, \"projection\": {\"type\": \"albersUsa\"}, \"transform\": [{\"lookup\": \"id\", \"from\": {\"data\": {\"name\": \"data-84d2ed08ad01c9c6771fdbec481a6eae\"}, \"key\": \"id\", \"fields\": [\"Amount\", \"State_Abv\", \"id\"]}}], \"width\": 600, \"$schema\": \"https://vega.github.io/schema/vega-lite/v4.8.1.json\", \"datasets\": {\"data-84d2ed08ad01c9c6771fdbec481a6eae\": [{\"Amount\": 35494154, \"State_Abv\": \"AK\", \"id\": 2}, {\"Amount\": 64402, \"State_Abv\": \"AL\", \"id\": 1}, {\"Amount\": 12962135, \"State_Abv\": \"AR\", \"id\": 5}, {\"Amount\": 151894555, \"State_Abv\": \"AZ\", \"id\": 4}, {\"Amount\": 542361665, \"State_Abv\": \"CA\", \"id\": 6}, {\"Amount\": 100121805, \"State_Abv\": \"CO\", \"id\": 8}, {\"Amount\": 1721451, \"State_Abv\": \"CT\", \"id\": 9}, {\"Amount\": 2296797, \"State_Abv\": \"DE\", \"id\": 10}, {\"Amount\": 37317276, \"State_Abv\": \"FL\", \"id\": 12}, {\"Amount\": 93216138, \"State_Abv\": \"GA\", \"id\": 13}, {\"Amount\": 215633, \"State_Abv\": \"HI\", \"id\": 15}, {\"Amount\": 59347731, \"State_Abv\": \"IA\", \"id\": 19}, {\"Amount\": 450864704, \"State_Abv\": \"ID\", \"id\": 16}, {\"Amount\": 391340550, \"State_Abv\": \"IL\", \"id\": 17}, {\"Amount\": 142207674, \"State_Abv\": \"IN\", \"id\": 18}, {\"Amount\": 342902570, \"State_Abv\": \"KS\", \"id\": 20}, {\"Amount\": 90530443, \"State_Abv\": \"KY\", \"id\": 21}, {\"Amount\": 77826920, \"State_Abv\": \"LA\", \"id\": 22}, {\"Amount\": 4266990, \"State_Abv\": \"MA\", \"id\": 25}, {\"Amount\": 7845395, \"State_Abv\": \"MD\", \"id\": 24}, {\"Amount\": 1923325, \"State_Abv\": \"ME\", \"id\": 23}, {\"Amount\": 72525711, \"State_Abv\": \"MI\", \"id\": 26}, {\"Amount\": 87232529, \"State_Abv\": \"MN\", \"id\": 27}, {\"Amount\": 117968293, \"State_Abv\": \"MO\", \"id\": 29}, {\"Amount\": 516410999, \"State_Abv\": \"MS\", \"id\": 28}, {\"Amount\": 115378366, \"State_Abv\": \"MT\", \"id\": 30}, {\"Amount\": 181237008, \"State_Abv\": \"NC\", \"id\": 37}, {\"Amount\": 20063041, \"State_Abv\": \"ND\", \"id\": 38}, {\"Amount\": 55332, \"State_Abv\": \"NE\", \"id\": 31}, {\"Amount\": 4490920, \"State_Abv\": \"NH\", \"id\": 33}, {\"Amount\": 10132114, \"State_Abv\": \"NJ\", \"id\": 34}, {\"Amount\": 46019675, \"State_Abv\": \"NM\", \"id\": 35}, {\"Amount\": 221209897, \"State_Abv\": \"NV\", \"id\": 32}, {\"Amount\": 305658439, \"State_Abv\": \"NY\", \"id\": 36}, {\"Amount\": 180710541, \"State_Abv\": \"OH\", \"id\": 39}, {\"Amount\": 125481806, \"State_Abv\": \"OK\", \"id\": 40}, {\"Amount\": 48953586, \"State_Abv\": \"OR\", \"id\": 41}, {\"Amount\": 25519677, \"State_Abv\": \"PA\", \"id\": 42}, {\"Amount\": 62868, \"State_Abv\": \"RI\", \"id\": 44}, {\"Amount\": 125415251, \"State_Abv\": \"SC\", \"id\": 45}, {\"Amount\": 178700270, \"State_Abv\": \"SD\", \"id\": 46}, {\"Amount\": 44244167, \"State_Abv\": \"TN\", \"id\": 47}, {\"Amount\": 507917583, \"State_Abv\": \"TX\", \"id\": 48}, {\"Amount\": 3097991, \"State_Abv\": \"UT\", \"id\": 49}, {\"Amount\": 3355814, \"State_Abv\": \"VA\", \"id\": 51}, {\"Amount\": 33420605, \"State_Abv\": \"VT\", \"id\": 50}, {\"Amount\": 182774666, \"State_Abv\": \"WA\", \"id\": 53}, {\"Amount\": 1142128, \"State_Abv\": \"WI\", \"id\": 55}, {\"Amount\": 50728101, \"State_Abv\": \"WV\", \"id\": 54}, {\"Amount\": 6702037, \"State_Abv\": \"WY\", \"id\": 56}]}}, {\"mode\": \"vega-lite\"});\n",
       "</script>"
      ],
      "text/plain": [
       "alt.Chart(...)"
      ]
     },
     "execution_count": 35,
     "metadata": {},
     "output_type": "execute_result"
    }
   ],
   "source": [
    "alt.Chart(states).mark_geoshape(stroke='white').encode(\n",
    "    color='Amount:Q'\n",
    ").transform_lookup(\n",
    "    lookup='id',\n",
    "    from_=alt.LookupData(amount, 'id', list(amount.columns))\n",
    ").project(\n",
    "    type='albersUsa'\n",
    ").properties(\n",
    "    width=600,\n",
    "    height=400\n",
    ")"
   ]
  },
  {
   "cell_type": "code",
   "execution_count": 33,
   "metadata": {},
   "outputs": [],
   "source": [
    "losses = losses.groupby('Damage_Descp').sum()\n",
    "losses = losses.sort_values(by='Amount', ascending=False)\n",
    "losses = losses.reset_index()\n",
    "losses['Amount'] = .000001 * losses['Amount']\n"
   ]
  },
  {
   "cell_type": "code",
   "execution_count": 34,
   "metadata": {},
   "outputs": [
    {
     "data": {
      "text/html": [
       "\n",
       "<div id=\"altair-viz-33c8216a828241be897c7f6723219124\"></div>\n",
       "<script type=\"text/javascript\">\n",
       "  (function(spec, embedOpt){\n",
       "    let outputDiv = document.currentScript.previousElementSibling;\n",
       "    if (outputDiv.id !== \"altair-viz-33c8216a828241be897c7f6723219124\") {\n",
       "      outputDiv = document.getElementById(\"altair-viz-33c8216a828241be897c7f6723219124\");\n",
       "    }\n",
       "    const paths = {\n",
       "      \"vega\": \"https://cdn.jsdelivr.net/npm//vega@5?noext\",\n",
       "      \"vega-lib\": \"https://cdn.jsdelivr.net/npm//vega-lib?noext\",\n",
       "      \"vega-lite\": \"https://cdn.jsdelivr.net/npm//vega-lite@4.8.1?noext\",\n",
       "      \"vega-embed\": \"https://cdn.jsdelivr.net/npm//vega-embed@6?noext\",\n",
       "    };\n",
       "\n",
       "    function loadScript(lib) {\n",
       "      return new Promise(function(resolve, reject) {\n",
       "        var s = document.createElement('script');\n",
       "        s.src = paths[lib];\n",
       "        s.async = true;\n",
       "        s.onload = () => resolve(paths[lib]);\n",
       "        s.onerror = () => reject(`Error loading script: ${paths[lib]}`);\n",
       "        document.getElementsByTagName(\"head\")[0].appendChild(s);\n",
       "      });\n",
       "    }\n",
       "\n",
       "    function showError(err) {\n",
       "      outputDiv.innerHTML = `<div class=\"error\" style=\"color:red;\">${err}</div>`;\n",
       "      throw err;\n",
       "    }\n",
       "\n",
       "    function displayChart(vegaEmbed) {\n",
       "      vegaEmbed(outputDiv, spec, embedOpt)\n",
       "        .catch(err => showError(`Javascript Error: ${err.message}<br>This usually means there's a typo in your chart specification. See the javascript console for the full traceback.`));\n",
       "    }\n",
       "\n",
       "    if(typeof define === \"function\" && define.amd) {\n",
       "      requirejs.config({paths});\n",
       "      require([\"vega-embed\"], displayChart, err => showError(`Error loading script: ${err.message}`));\n",
       "    } else if (typeof vegaEmbed === \"function\") {\n",
       "      displayChart(vegaEmbed);\n",
       "    } else {\n",
       "      loadScript(\"vega\")\n",
       "        .then(() => loadScript(\"vega-lite\"))\n",
       "        .then(() => loadScript(\"vega-embed\"))\n",
       "        .catch(showError)\n",
       "        .then(() => displayChart(vegaEmbed));\n",
       "    }\n",
       "  })({\"config\": {\"view\": {\"continuousWidth\": 400, \"continuousHeight\": 300}}, \"data\": {\"name\": \"data-0e72830e80b392ab81b83c2b661a7b0b\"}, \"mark\": \"bar\", \"encoding\": {\"x\": {\"type\": \"quantitative\", \"axis\": {\"title\": \"Total Losses [$mil]\"}, \"field\": \"Amount\"}, \"y\": {\"type\": \"nominal\", \"axis\": {\"title\": \"Cause of Loss\"}, \"field\": \"Damage_Descp\", \"sort\": \"-x\"}}, \"height\": 300, \"width\": 400, \"$schema\": \"https://vega.github.io/schema/vega-lite/v4.8.1.json\", \"datasets\": {\"data-0e72830e80b392ab81b83c2b661a7b0b\": [{\"Damage_Descp\": \"Excess Moisture/Precip/Rain\", \"Amount\": 2842.78007}, {\"Damage_Descp\": \"Drought\", \"Amount\": 801.430613}, {\"Damage_Descp\": \"Hail\", \"Amount\": 418.79290299999997}, {\"Damage_Descp\": \"Heat\", \"Amount\": 416.496757}, {\"Damage_Descp\": \"Failure Irrig Supply\", \"Amount\": 250.649477}, {\"Damage_Descp\": \"Decline in Price\", \"Amount\": 208.21753099999998}, {\"Damage_Descp\": \"Cold Winter\", \"Amount\": 155.502782}, {\"Damage_Descp\": \"Flood\", \"Amount\": 120.82904699999999}, {\"Damage_Descp\": \"Freeze\", \"Amount\": 118.243521}, {\"Damage_Descp\": \"Cold Wet Weather\", \"Amount\": 111.74215099999999}, {\"Damage_Descp\": \"Wind/Excess Wind\", \"Amount\": 72.767651}, {\"Damage_Descp\": \"Area Plan Crops Only\", \"Amount\": 54.452552}, {\"Damage_Descp\": \"Plant Disease\", \"Amount\": 48.035764}, {\"Damage_Descp\": \"Frost\", \"Amount\": 40.405601}, {\"Damage_Descp\": \"Mycotoxin (Aflatoxin)\", \"Amount\": 24.858252999999998}, {\"Damage_Descp\": \"Other (Snow-Lightning-Etc.)\", \"Amount\": 22.314552}, {\"Damage_Descp\": \"Hot Wind\", \"Amount\": 18.566675}, {\"Damage_Descp\": \"Wildlife\", \"Amount\": 17.758484}, {\"Damage_Descp\": \"Insects\", \"Amount\": 9.495289}, {\"Damage_Descp\": \"Excess Sun\", \"Amount\": 3.256572}, {\"Damage_Descp\": \"Failure Irrig Equip\", \"Amount\": 2.140714}, {\"Damage_Descp\": \"House Burn (Pole Burn)\", \"Amount\": 1.5623529999999999}, {\"Damage_Descp\": \"Fire\", \"Amount\": 1.078663}, {\"Damage_Descp\": \"Tornado\", \"Amount\": 0.5862379999999999}, {\"Damage_Descp\": \"Hurricane/Tropical Depression\", \"Amount\": 0.426201}, {\"Damage_Descp\": \"Earthquake\", \"Amount\": 0.342177}, {\"Damage_Descp\": \"Other Causes\", \"Amount\": 0.199367}, {\"Damage_Descp\": \"Inability to Prepare Land for Irr\", \"Amount\": 0.17701799999999998}, {\"Damage_Descp\": \"Falling Numbers\", \"Amount\": 0.087113}, {\"Damage_Descp\": \"Cyclone\", \"Amount\": 0.079596}, {\"Damage_Descp\": \"Insufficient Chilling Hours\", \"Amount\": 0.03402}, {\"Damage_Descp\": \"Asian Soybean Rust\", \"Amount\": 0.012865}, {\"Damage_Descp\": \"Federal or State Ordered Destruct\", \"Amount\": 0.009158}]}}, {\"mode\": \"vega-lite\"});\n",
       "</script>"
      ],
      "text/plain": [
       "alt.Chart(...)"
      ]
     },
     "execution_count": 34,
     "metadata": {},
     "output_type": "execute_result"
    }
   ],
   "source": [
    "alt.Chart(losses).mark_bar().encode(\n",
    "    x=alt.X('Amount', axis=alt.Axis(title='Total Losses [$mil]')),\n",
    "    y=alt.Y('Damage_Descp', sort='-x', axis=alt.Axis(title='Cause of Loss'))\n",
    ").properties(\n",
    "    width=400,\n",
    "    height=300\n",
    ")"
   ]
  },
  {
   "cell_type": "code",
   "execution_count": null,
   "metadata": {},
   "outputs": [],
   "source": []
  }
 ],
 "metadata": {
  "kernelspec": {
   "display_name": "Python 3",
   "language": "python",
   "name": "python3"
  },
  "language_info": {
   "codemirror_mode": {
    "name": "ipython",
    "version": 3
   },
   "file_extension": ".py",
   "mimetype": "text/x-python",
   "name": "python",
   "nbconvert_exporter": "python",
   "pygments_lexer": "ipython3",
   "version": "3.8.8"
  }
 },
 "nbformat": 4,
 "nbformat_minor": 4
}
